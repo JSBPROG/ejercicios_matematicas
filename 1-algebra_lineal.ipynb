{
 "cells": [
  {
   "cell_type": "markdown",
   "id": "f1c07f89",
   "metadata": {},
   "source": [
    "# Ejecicios de álgebra lineal"
   ]
  },
  {
   "cell_type": "markdown",
   "id": "0fd88203",
   "metadata": {},
   "source": [
    "Los ejercicios de álgebra lineal (es decir, incógnitas sin cuadrados ni raices), tienen 3 posibles soluciones:  \n",
    "- 1 solución.  \n",
    "- Infinitas soluciones.  \n",
    "- Ninguna solución."
   ]
  },
  {
   "cell_type": "markdown",
   "id": "8f5d2a53",
   "metadata": {},
   "source": [
    "## Teoría\n",
    "\n",
    "# Propiedades de las Ecuaciones\n",
    "\n",
    "Las ecuaciones son igualdades matemáticas entre dos expresiones. Para transformar una ecuación en otra equivalente (que tenga las mismas soluciones), se usan las siguientes propiedades:\n",
    "\n",
    "1. **Propiedad de la suma o resta:**  \n",
    "   Se puede sumar o restar una misma cantidad a ambos lados de la ecuación sin modificar su igualdad.  \n",
    "   $$\n",
    "   a = b \\implies a + c = b + c\n",
    "   $$\n",
    "\n",
    "2. **Propiedad de la multiplicación:**  \n",
    "   Se puede multiplicar ambos miembros de la ecuación por una misma cantidad distinta de cero.  \n",
    "   $$\n",
    "   a = b \\implies ac = bc, \\quad c \\neq 0\n",
    "   $$\n",
    "\n",
    "3. **Propiedad de la división:**  \n",
    "   Se puede dividir ambos miembros por una misma cantidad distinta de cero.  \n",
    "   $$\n",
    "   a = b \\implies \\frac{a}{c} = \\frac{b}{c}, \\quad c \\neq 0\n",
    "   $$\n",
    "\n",
    "4. **Otras propiedades importantes:**  \n",
    "   - Elevar ambos miembros a una misma potencia distinta de cero mantiene la igualdad (con precauciones).  \n",
    "   - Extraer la misma raíz en ambos miembros también mantiene la igualdad (cuando es válida la operación).\n",
    "\n",
    "5. **Transposición de términos:**  \n",
    "   Se puede pasar un término de un miembro al otro cambiando su signo para simplificar la ecuación.\n",
    "\n",
    "---\n",
    "\n",
    "Estas propiedades permiten realizar transformaciones elementales que facilitan la resolución de las ecuaciones, garantizando que las soluciones de la ecuación original y la transformada sean equivalentes.\n",
    "\n",
    "---\n",
    "\n",
    "**Nota:** Para las ecuaciones lineales, estas propiedades se usan para despejar la incógnita y encontrar su valor.\n"
   ]
  },
  {
   "cell_type": "markdown",
   "id": "44b1c9c5",
   "metadata": {},
   "source": [
    "# Ejemplos de las Propiedades de las Ecuaciones y sus Usos\n",
    "\n",
    "---\n",
    "\n",
    "### 1. Propiedad de la suma o resta\n",
    "\n",
    "> **Se puede sumar o restar una misma cantidad a ambos lados sin cambiar la igualdad.**\n",
    "\n",
    "**Ejemplo:**\n",
    "\n",
    "Dada la ecuación\n",
    "$$\n",
    "3x + 5 = 11\n",
    "$$\n",
    "\n",
    "Restamos 5 en ambos lados:\n",
    "$$\n",
    "3x + 5 - 5 = 11 - 5\n",
    "$$\n",
    "$$\n",
    "3x = 6\n",
    "$$\n",
    "\n",
    "Esto facilita despejar \\( x \\).\n",
    "\n",
    "---\n",
    "\n",
    "### 2. Propiedad de la multiplicación\n",
    "\n",
    "> **Se puede multiplicar ambos lados por el mismo número distinto de cero sin cambiar la igualdad.**\n",
    "\n",
    "**Ejemplo:**\n",
    "\n",
    "Si tienes\n",
    "$$\n",
    "\\frac{x}{3} = 4\n",
    "$$\n",
    "\n",
    "Multiplicamos ambos lados por 3 para eliminar el denominador:\n",
    "$$\n",
    "3 \\times \\frac{x}{3} = 3 \\times 4\n",
    "$$\n",
    "$$\n",
    "x = 12\n",
    "$$\n",
    "\n",
    "---\n",
    "\n",
    "### 3. Propiedad de la división\n",
    "\n",
    "> **Se puede dividir ambos lados por el mismo número distinto de cero sin cambiar la igualdad.**\n",
    "\n",
    "**Ejemplo:**\n",
    "\n",
    "Dada la ecuación\n",
    "$$\n",
    "6x = 18\n",
    "$$\n",
    "\n",
    "Dividimos ambos lados entre 6 para despejar:\n",
    "$$\n",
    "\\frac{6x}{6} = \\frac{18}{6}\n",
    "$$\n",
    "$$\n",
    "x = 3\n",
    "$$\n",
    "\n",
    "---\n",
    "\n",
    "### 4. Elevar ambos miembros a una misma potencia\n",
    "\n",
    "> **Se puede elevar ambos miembros a una misma potencia (con precaución al comprobar soluciones extraviadas).**\n",
    "\n",
    "**Ejemplo:**\n",
    "\n",
    "Si\n",
    "$$\n",
    "\\sqrt{x} = 3\n",
    "$$\n",
    "\n",
    "Elevamos al cuadrado ambos miembros:\n",
    "$$\n",
    "(\\sqrt{x})^2 = 3^2\n",
    "$$\n",
    "$$\n",
    "x = 9\n",
    "$$\n",
    "\n",
    "---\n",
    "\n",
    "### 5. Extraer raíz en ambos miembros\n",
    "\n",
    "> **Se puede extraer la misma raíz en ambos lados si la operación es válida.**\n",
    "\n",
    "**Ejemplo:**\n",
    "\n",
    "Para\n",
    "$$\n",
    "x^2 = 16\n",
    "$$\n",
    "\n",
    "Extraemos raíz cuadrada:\n",
    "$$\n",
    "\\sqrt{x^2} = \\pm \\sqrt{16}\n",
    "$$\n",
    "$$\n",
    "x = \\pm 4\n",
    "$$\n",
    "\n",
    "---\n",
    "\n",
    "### 6. Propiedad de la transposición de términos\n",
    "\n",
    "> **Se puede pasar un término de un lado a otro cambiando su signo para simplificar.**\n",
    "\n",
    "**Ejemplo:**\n",
    "\n",
    "Dada la ecuación\n",
    "$$\n",
    "5x - 3 = 2x + 7\n",
    "$$\n",
    "\n",
    "Pasamos \\( 2x \\) a la izquierda y \\( -3 \\) a la derecha:\n",
    "$$\n",
    "5x - 2x = 7 + 3\n",
    "$$\n",
    "$$\n",
    "3x = 10\n",
    "$$\n",
    "\n",
    "---\n",
    "\n",
    "\n"
   ]
  },
  {
   "cell_type": "markdown",
   "id": "5424cbcd",
   "metadata": {},
   "source": [
    "# Problemas básicos de una sola incógnita"
   ]
  },
  {
   "cell_type": "markdown",
   "id": "72b3e394",
   "metadata": {},
   "source": [
    "## EJERCICIOS"
   ]
  },
  {
   "cell_type": "markdown",
   "id": "f7b3649d",
   "metadata": {},
   "source": [
    "### Ejercicio 1\n",
    "\n",
    "Resuelve para \\( x \\):  \n",
    "\\[ 3x + 5 = 11 \\]\n",
    "\n",
    "\n",
    "\n"
   ]
  },
  {
   "cell_type": "code",
   "execution_count": 10,
   "id": "07b5cdbd",
   "metadata": {},
   "outputs": [
    {
     "name": "stdout",
     "output_type": "stream",
     "text": [
      "resultado = 2.0\n"
     ]
    }
   ],
   "source": [
    "# Solución matemática manual\n",
    "\n",
    "incognita = (11 - 5) / 3\n",
    "print (f\"resultado = {incognita}\")"
   ]
  },
  {
   "cell_type": "code",
   "execution_count": 11,
   "id": "9688fdf4",
   "metadata": {},
   "outputs": [
    {
     "name": "stdout",
     "output_type": "stream",
     "text": [
      "La solución es x = 2\n"
     ]
    }
   ],
   "source": [
    "# Solución con python \n",
    "\n",
    "from sympy import symbols, Eq, solve\n",
    "\n",
    "x = symbols('x')\n",
    "ecuacion = Eq(3*x + 5, 11)\n",
    "solucion = solve(ecuacion, x)\n",
    "print(\"La solución es x =\", solucion[0])\n"
   ]
  },
  {
   "cell_type": "markdown",
   "id": "85b3b324",
   "metadata": {},
   "source": [
    "**Ejercicio 2:**  \n",
    "Resuelve para \\( x \\):\n",
    "\n",
    "$$\n",
    "5(2x - 3) = 4x + 7\n",
    "$$\n"
   ]
  },
  {
   "cell_type": "code",
   "execution_count": 12,
   "id": "591dc5df",
   "metadata": {},
   "outputs": [
    {
     "name": "stdout",
     "output_type": "stream",
     "text": [
      "La solución es x = 11/3\n"
     ]
    }
   ],
   "source": [
    "from sympy import symbols, Eq, solve\n",
    "\n",
    "x = symbols('x')\n",
    "\n",
    "# Paso 1: Multiplicar lado izquierdo\n",
    "lado_iz = 5 * (2*x - 3)\n",
    "lado_der = 4*x + 7\n",
    "\n",
    "# Creamos la ecuación\n",
    "ecuacion = Eq(lado_iz, lado_der)\n",
    "\n",
    "# Resolvemos\n",
    "solucion = solve(ecuacion, x)\n",
    "print(f\"La solución es x = {solucion[0]}\")\n",
    "\n"
   ]
  },
  {
   "cell_type": "code",
   "execution_count": 13,
   "id": "9c219234",
   "metadata": {},
   "outputs": [
    {
     "name": "stdout",
     "output_type": "stream",
     "text": [
      "Ecuación inicial:\n",
      "5(2x - 3) = 4x + 7\n",
      "\n",
      "Paso 1: Distribuir 5 en lado izquierdo\n",
      "10x - 15 = 4x + 7\n",
      "\n",
      "Paso 2: Restamos 4x en ambos lados para juntar términos con x en un lado\n",
      "6x - 15 = 7\n",
      "\n",
      "Paso 3: Sumamos 15 en ambos lados para pasar la constante\n",
      "6x = 22\n",
      "\n",
      "Paso 4: Dividimos ambos lados entre 6 para despejar x\n",
      "x = 22 / 6 = 3.6666666666666665 = 3.6667\n"
     ]
    }
   ],
   "source": [
    "# Solución paso a paso sin importes\n",
    "\n",
    "# Paso 1\n",
    "lado_iz = \"10x - 15\"\n",
    "lado_der = \"4x + 7\"\n",
    "print(\"Ecuación inicial:\")\n",
    "print(\"5(2x - 3) = 4x + 7\")\n",
    "print()\n",
    "print(\"Paso 1: Distribuir 5 en lado izquierdo\")\n",
    "print(f\"{lado_iz} = {lado_der}\")\n",
    "print()\n",
    "\n",
    "# Paso 2\n",
    "print(\"Paso 2: Restamos 4x en ambos lados para juntar términos con x en un lado\")\n",
    "# 10x - 4x = 6x\n",
    "lado_iz_coef_x = 10 - 4  # 6\n",
    "lado_iz_const = -15\n",
    "lado_der_const = 7\n",
    "\n",
    "print(f\"6x - 15 = 7\")\n",
    "print()\n",
    "\n",
    "# Paso 3\n",
    "print(\"Paso 3: Sumamos 15 en ambos lados para pasar la constante\")\n",
    "lado_der_const += 15  # 7 + 15 = 22\n",
    "print(f\"6x = {lado_der_const}\")\n",
    "print()\n",
    "\n",
    "# Paso 4\n",
    "print(\"Paso 4: Dividimos ambos lados entre 6 para despejar x\")\n",
    "x = lado_der_const / lado_iz_coef_x\n",
    "print(f\"x = {lado_der_const} / {lado_iz_coef_x} = {x} = {round(x,4)}\")"
   ]
  },
  {
   "cell_type": "markdown",
   "id": "e5dc799a",
   "metadata": {},
   "source": [
    "## PROBLEMAS"
   ]
  },
  {
   "cell_type": "markdown",
   "id": "39ee6d16",
   "metadata": {},
   "source": [
    "## Problema 1\n",
    "\n",
    "\n",
    "Juan tiene el triple de años que su hermana Ana. Dentro de 5 años, la suma de sus edades será 50 años. ¿Cuántos años tiene cada uno actualmente?\n"
   ]
  },
  {
   "cell_type": "code",
   "execution_count": 18,
   "id": "ef8d8c1f",
   "metadata": {},
   "outputs": [
    {
     "name": "stdout",
     "output_type": "stream",
     "text": [
      "La solución es x = 10, esta es la edad de Ana\n",
      "La edad de juan es el triple: 30\n"
     ]
    }
   ],
   "source": [
    "# La incógnita es la edad (x)\n",
    "\n",
    "from sympy import symbols, Eq, solve\n",
    "\n",
    "x = symbols('x')\n",
    "\n",
    "# Ecuación\n",
    "lado_iz = (x + 5) + (3*x + 5)\n",
    "lado_der = 50\n",
    "\n",
    "# Creamos la ecuación\n",
    "ecuacion = Eq(lado_iz, lado_der)\n",
    "\n",
    "# Resolvemos\n",
    "solucion = solve(ecuacion, x)\n",
    "print(f\"La solución es x = {solucion[0]}, esta es la edad de Ana\")\n",
    "print(f\"La edad de juan es el triple: {3*solucion[0]}\")"
   ]
  },
  {
   "cell_type": "markdown",
   "id": "a182888e",
   "metadata": {},
   "source": [
    "## Problema 2\n",
    "\n",
    "\n",
    "Si al doble de un número le sumamos 15 obtenemos 51. ¿Qué número es? \n"
   ]
  },
  {
   "cell_type": "code",
   "execution_count": 22,
   "id": "14187222",
   "metadata": {},
   "outputs": [
    {
     "name": "stdout",
     "output_type": "stream",
     "text": [
      "La solución es x = 18\n"
     ]
    }
   ],
   "source": [
    "# El número buscado es X\n",
    "from sympy import symbols, Eq, solve\n",
    "\n",
    "x = symbols('x')\n",
    "lado_izquierdo = (2*x) + 15\n",
    "lado_derecho = 51\n",
    "\n",
    "ecuacion = Eq(lado_izquierdo, lado_derecho)\n",
    "\n",
    "# Resolvemos\n",
    "solucion = solve(ecuacion, x)\n",
    "print(f\"La solución es x = {solucion[0]}\")"
   ]
  },
  {
   "cell_type": "markdown",
   "id": "03f3f5a9",
   "metadata": {},
   "source": [
    "## Problema 3\n",
    "\n",
    "\n",
    " En una ferretería se venden tornillos en cajas de tres tamaños: pequeña, mediana y\n",
    "grande. La caja grande contiene el doble que la mediana y la mediana 25 tornillos más\n",
    "que la pequeña. He comprado una caja de cada tamaño y en total hay 375 tornillos,\n",
    "¿cuántos tornillos hay en cada caja?\n"
   ]
  },
  {
   "cell_type": "code",
   "execution_count": null,
   "id": "3132306d",
   "metadata": {},
   "outputs": [
    {
     "name": "stdout",
     "output_type": "stream",
     "text": [
      "La solución es x = 75, estos son los tornillos de la caja pequeña\n",
      "caja pequeña = 75\n",
      "caja mediana = x + 25\n",
      "caja grande = 2*x + 50\n"
     ]
    }
   ],
   "source": [
    "from sympy import symbols, Eq, solve\n",
    "\n",
    "x = symbols('x')  # Cantidad de tornillos de la caja pequeña\n",
    "\n",
    "caja_mediana = 25 + x\n",
    "caja_grande = 2 * caja_mediana\n",
    "\n",
    "# Ecuación: suma de tornillos de las tres cajas = 375\n",
    "lado_izq = caja_grande + caja_mediana + x\n",
    "lado_der = 375\n",
    "\n",
    "ecuacion = Eq(lado_izq, lado_der)\n",
    "\n",
    "\n",
    "solucion = solve(ecuacion, x)\n",
    "x_valor = solucion[0]\n",
    "\n",
    "print(f\"La solución es x = {x_valor}, estos son los tornillos de la caja pequeña\")\n",
    "\n",
    "# Evaluar cantidades sustituyendo x\n",
    "caja_pequena_val = x_valor\n",
    "caja_mediana_val = caja_mediana.subs(x, x_valor)\n",
    "caja_grande_val = caja_grande.subs(x, x_valor)\n",
    "\n",
    "print(f\"Cantidad tornillos caja pequeña = {caja_pequena_val}\")\n",
    "print(f\"Cantidad tornillos caja mediana = {caja_mediana_val}\")\n",
    "print(f\"Cantidad tornillos caja grande = {caja_grande_val}\")\n"
   ]
  }
 ],
 "metadata": {
  "kernelspec": {
   "display_name": ".venv",
   "language": "python",
   "name": "python3"
  },
  "language_info": {
   "codemirror_mode": {
    "name": "ipython",
    "version": 3
   },
   "file_extension": ".py",
   "mimetype": "text/x-python",
   "name": "python",
   "nbconvert_exporter": "python",
   "pygments_lexer": "ipython3",
   "version": "3.9.12"
  }
 },
 "nbformat": 4,
 "nbformat_minor": 5
}
