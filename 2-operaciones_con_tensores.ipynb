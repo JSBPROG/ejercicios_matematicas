{
 "cells": [
  {
   "cell_type": "markdown",
   "id": "55e7772b",
   "metadata": {},
   "source": [
    "# 2-OPERACIONES CON TENSORES"
   ]
  },
  {
   "cell_type": "markdown",
   "id": "0f12db98",
   "metadata": {},
   "source": [
    "Para trabajar con IA, se usan los tensores, que generalizan los conceptos de escalar,vector y matriz a dimensiones más grandes.\n",
    "\n",
    "Primero haremos operaciones sin ser con tensores con los 3 módulos más utilizados: **Numpy, TensorFlow, PyTorch**\n",
    "\n",
    "---"
   ]
  },
  {
   "cell_type": "markdown",
   "id": "2db9ec63",
   "metadata": {},
   "source": [
    "## 2.1 - ESCALAR\n",
    "\n",
    "El escalar es el número, sin más y la dimensión es 0"
   ]
  },
  {
   "cell_type": "markdown",
   "id": "5f08d73b",
   "metadata": {},
   "source": [
    "### Con PyTorch\n",
    "\n",
    "Sea el concepto que sea, usaremos siempre tensores, dependiendo de cómo cargamos el tensor, será una cosa o la otra.   \n",
    "En el caso del escalar, es simplemente un número (Dimensión 0)\n",
    "\n",
    "https://docs.pytorch.org/docs/stable/tensors.html "
   ]
  },
  {
   "cell_type": "code",
   "execution_count": 7,
   "id": "c83a6b94",
   "metadata": {},
   "outputs": [
    {
     "name": "stderr",
     "output_type": "stream",
     "text": [
      "c:\\Users\\Jorge\\Desktop\\programacion\\ejercicios_matematicas\\.venv\\lib\\site-packages\\torch\\_subclasses\\functional_tensor.py:276: UserWarning: Failed to initialize NumPy: No module named 'numpy' (Triggered internally at C:\\actions-runner\\_work\\pytorch\\pytorch\\pytorch\\torch\\csrc\\utils\\tensor_numpy.cpp:81.)\n",
      "  cpu = _conversion_method_template(device=torch.device(\"cpu\"))\n"
     ]
    }
   ],
   "source": [
    "import torch"
   ]
  },
  {
   "cell_type": "code",
   "execution_count": 22,
   "id": "d4e20c59",
   "metadata": {},
   "outputs": [
    {
     "name": "stdout",
     "output_type": "stream",
     "text": [
      "tensor(100)\n",
      "shape: torch.Size([])\n"
     ]
    }
   ],
   "source": [
    "#Trabajamos siempre con tensor\n",
    "x = torch.tensor(100) #De esta forma generaliza y segun lo que entra ya decide el tipo\n",
    "print(x)\n",
    "print(f\"shape: {x.shape}\")"
   ]
  },
  {
   "cell_type": "code",
   "execution_count": null,
   "id": "c70aa5ca",
   "metadata": {},
   "outputs": [
    {
     "name": "stdout",
     "output_type": "stream",
     "text": [
      "tensor(2, dtype=torch.uint8)\n",
      "tensor(0, dtype=torch.uint8)\n"
     ]
    }
   ],
   "source": [
    "#Una forma más concreta según la web de PyTorch\n",
    "y = torch.tensor(data=2,dtype=torch.uint8) #Es interesante que va guardando la info, pero cuidado, si nos pasamos del límite reinicia.\n",
    "print(y)\n",
    "#Ejemplo de overflow\n",
    "y = torch.tensor(data=256,dtype=torch.uint8)\n",
    "print(y)"
   ]
  },
  {
   "cell_type": "markdown",
   "id": "dd947f89",
   "metadata": {},
   "source": [
    "**INFO:** el tipo torch.uint8 representa un tensor de números enteros sin signo de 8 bits (valores de 0 a 255) \n",
    "\n",
    "**RECOMENDACIÓN**: no escribir el tipo y dejar que se infiera"
   ]
  },
  {
   "cell_type": "markdown",
   "id": "ac0e4355",
   "metadata": {},
   "source": [
    "#### OPERACIONES "
   ]
  },
  {
   "cell_type": "code",
   "execution_count": null,
   "id": "fa9f49cf",
   "metadata": {},
   "outputs": [
    {
     "name": "stdout",
     "output_type": "stream",
     "text": [
      "tensor(7)\n",
      "tensor(1505)\n"
     ]
    }
   ],
   "source": [
    "#Suma\n",
    "x = torch.tensor(5)\n",
    "y = torch.tensor(2)\n",
    "print(x + y) #crea un nuevo tensor que es la suma\n",
    "\n",
    "#Suma de tensor con un escalar típico, funciona perfectamente\n",
    "print(x + 1500)"
   ]
  },
  {
   "cell_type": "code",
   "execution_count": 30,
   "id": "33875406",
   "metadata": {},
   "outputs": [
    {
     "name": "stdout",
     "output_type": "stream",
     "text": [
      "tensor(5., dtype=torch.float16)\n",
      "tensor(5.)\n",
      "tensor(10.)\n",
      "tensor(5., dtype=torch.float16)\n",
      "torch.float16\n"
     ]
    }
   ],
   "source": [
    "#Se puede operar entre tipos iguales o distintos con diferente profundidad, el resultante es el tipo más específico\n",
    "x = torch.tensor(5,dtype=torch.float16)\n",
    "print(x)\n",
    "y = torch.tensor(5,dtype=torch.float32)\n",
    "print(y)\n",
    "print(x + y)\n",
    "\n",
    "#Operación entre diferentes tipos\n",
    "\n",
    "a = torch.tensor(1, dtype=torch.uint8)\n",
    "b = torch.tensor(4, dtype=torch.float16)\n",
    "\n",
    "# Operación entre diferentes tipos: el resultado es el más específico\n",
    "c = a + b\n",
    "print(c)          \n",
    "print(c.dtype)    "
   ]
  },
  {
   "cell_type": "markdown",
   "id": "426ddb23",
   "metadata": {},
   "source": [
    "## 2.2 - VECTOR\n",
    "\n",
    "El vector es de dimensión 1, basicamente es una fila con x columnas"
   ]
  }
 ],
 "metadata": {
  "kernelspec": {
   "display_name": ".venv",
   "language": "python",
   "name": "python3"
  },
  "language_info": {
   "codemirror_mode": {
    "name": "ipython",
    "version": 3
   },
   "file_extension": ".py",
   "mimetype": "text/x-python",
   "name": "python",
   "nbconvert_exporter": "python",
   "pygments_lexer": "ipython3",
   "version": "3.9.12"
  }
 },
 "nbformat": 4,
 "nbformat_minor": 5
}
